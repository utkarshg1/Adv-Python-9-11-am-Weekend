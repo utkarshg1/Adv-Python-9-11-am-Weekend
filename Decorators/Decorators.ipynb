{
 "cells": [
  {
   "cell_type": "markdown",
   "metadata": {},
   "source": [
    "# Keyword arguments in python"
   ]
  },
  {
   "cell_type": "markdown",
   "metadata": {},
   "source": [
    "1. **kwargs\n",
    "2. kwargs acts like a dictionary"
   ]
  },
  {
   "cell_type": "code",
   "execution_count": 1,
   "metadata": {},
   "outputs": [
    {
     "data": {
      "text/plain": [
       "dict"
      ]
     },
     "execution_count": 1,
     "metadata": {},
     "output_type": "execute_result"
    }
   ],
   "source": [
    "d = {\n",
    "    \"name\" : \"Utkarsh\",\n",
    "    \"age\": 28,\n",
    "    \"married\": True\n",
    "}\n",
    "type(d)"
   ]
  },
  {
   "cell_type": "code",
   "execution_count": 2,
   "metadata": {},
   "outputs": [
    {
     "data": {
      "text/plain": [
       "{'name': 'Utkarsh', 'age': 28, 'married': True}"
      ]
     },
     "execution_count": 2,
     "metadata": {},
     "output_type": "execute_result"
    }
   ],
   "source": [
    "d"
   ]
  },
  {
   "cell_type": "code",
   "execution_count": 3,
   "metadata": {},
   "outputs": [
    {
     "data": {
      "text/plain": [
       "dict_keys(['name', 'age', 'married'])"
      ]
     },
     "execution_count": 3,
     "metadata": {},
     "output_type": "execute_result"
    }
   ],
   "source": [
    "d.keys()"
   ]
  },
  {
   "cell_type": "code",
   "execution_count": 6,
   "metadata": {},
   "outputs": [
    {
     "data": {
      "text/plain": [
       "dict_items([('name', 'Utkarsh'), ('age', 28), ('married', True)])"
      ]
     },
     "execution_count": 6,
     "metadata": {},
     "output_type": "execute_result"
    }
   ],
   "source": [
    "d.items()"
   ]
  },
  {
   "cell_type": "code",
   "execution_count": 9,
   "metadata": {},
   "outputs": [],
   "source": [
    "def function(**kwargs):\n",
    "    print(kwargs)\n",
    "    print(type(kwargs))\n",
    "    for key, value in kwargs.items():\n",
    "        print(f\"{key} : {value}\")"
   ]
  },
  {
   "cell_type": "code",
   "execution_count": 10,
   "metadata": {},
   "outputs": [
    {
     "name": "stdout",
     "output_type": "stream",
     "text": [
      "{'name': 'Sarthak', 'age': 24}\n",
      "<class 'dict'>\n",
      "name : Sarthak\n",
      "age : 24\n"
     ]
    }
   ],
   "source": [
    "function(name=\"Sarthak\", age=24)"
   ]
  },
  {
   "cell_type": "code",
   "execution_count": 11,
   "metadata": {},
   "outputs": [
    {
     "name": "stdout",
     "output_type": "stream",
     "text": [
      "{'name': 'Aditi', 'age': 28, 'email': 'aditi@example.com', 'graduated': True}\n",
      "<class 'dict'>\n",
      "name : Aditi\n",
      "age : 28\n",
      "email : aditi@example.com\n",
      "graduated : True\n"
     ]
    }
   ],
   "source": [
    "function(name=\"Aditi\", age=28, email=\"aditi@example.com\", graduated=True)"
   ]
  },
  {
   "cell_type": "code",
   "execution_count": 12,
   "metadata": {},
   "outputs": [
    {
     "data": {
      "text/plain": [
       "{'name': 'Utkarsh', 'age': 28, 'married': True}"
      ]
     },
     "execution_count": 12,
     "metadata": {},
     "output_type": "execute_result"
    }
   ],
   "source": [
    "d"
   ]
  },
  {
   "cell_type": "code",
   "execution_count": 14,
   "metadata": {},
   "outputs": [
    {
     "name": "stdout",
     "output_type": "stream",
     "text": [
      "{'name': 'Utkarsh', 'age': 28, 'married': True}\n",
      "<class 'dict'>\n",
      "name : Utkarsh\n",
      "age : 28\n",
      "married : True\n"
     ]
    }
   ],
   "source": [
    "function(**d)"
   ]
  },
  {
   "cell_type": "markdown",
   "metadata": {},
   "source": [
    "## Practical example for kwargs"
   ]
  },
  {
   "cell_type": "markdown",
   "metadata": {},
   "source": [
    "### Perform billing for a restauraunt , provided the menu including taxes"
   ]
  },
  {
   "cell_type": "code",
   "execution_count": 16,
   "metadata": {},
   "outputs": [],
   "source": [
    "menu = {\n",
    "    \"burger\": 150,\n",
    "    \"pizza\": 270,\n",
    "    \"sandwich\": 100,\n",
    "    \"pasta\": 250,\n",
    "    \"coffee\": 50\n",
    "}"
   ]
  },
  {
   "cell_type": "code",
   "execution_count": 17,
   "metadata": {},
   "outputs": [
    {
     "data": {
      "text/plain": [
       "250"
      ]
     },
     "execution_count": 17,
     "metadata": {},
     "output_type": "execute_result"
    }
   ],
   "source": [
    "menu.get(\"pasta\")"
   ]
  },
  {
   "cell_type": "code",
   "execution_count": 19,
   "metadata": {},
   "outputs": [
    {
     "name": "stdout",
     "output_type": "stream",
     "text": [
      "None\n"
     ]
    }
   ],
   "source": [
    "a = menu.get(\"samosa\")\n",
    "print(a)"
   ]
  },
  {
   "cell_type": "code",
   "execution_count": 25,
   "metadata": {},
   "outputs": [],
   "source": [
    "def hotel_bill(**kwargs):\n",
    "    bill = 0\n",
    "    for food, qty in kwargs.items():\n",
    "        price = menu.get(food)\n",
    "        if price is not None:\n",
    "            amt = price*qty\n",
    "            bill = bill + amt\n",
    "            print(f\"Food Item : {food}, price : {price:.2f} INR Qty : {qty}, Subtotal : {amt:.2f} INR\")\n",
    "    print(f\"Total billing amount is : {bill:.2f} INR\")\n",
    "    return bill"
   ]
  },
  {
   "cell_type": "code",
   "execution_count": 27,
   "metadata": {},
   "outputs": [
    {
     "name": "stdout",
     "output_type": "stream",
     "text": [
      "Food Item : burger, price : 150.00 INR Qty : 2, Subtotal : 300.00 INR\n",
      "Food Item : coffee, price : 50.00 INR Qty : 1, Subtotal : 50.00 INR\n",
      "Total billing amount is : 350.00 INR\n"
     ]
    }
   ],
   "source": [
    "b1 = hotel_bill(burger=2, coffee=1)"
   ]
  },
  {
   "cell_type": "code",
   "execution_count": 28,
   "metadata": {},
   "outputs": [
    {
     "data": {
      "text/plain": [
       "350"
      ]
     },
     "execution_count": 28,
     "metadata": {},
     "output_type": "execute_result"
    }
   ],
   "source": [
    "b1"
   ]
  },
  {
   "cell_type": "code",
   "execution_count": 34,
   "metadata": {},
   "outputs": [
    {
     "name": "stdout",
     "output_type": "stream",
     "text": [
      "Food Item : pizza, price : 270.00 INR Qty : 4, Subtotal : 1080.00 INR\n",
      "Food Item : sandwich, price : 100.00 INR Qty : 2, Subtotal : 200.00 INR\n",
      "Food Item : coffee, price : 50.00 INR Qty : 6, Subtotal : 300.00 INR\n",
      "Total billing amount is : 1580.00 INR\n"
     ]
    }
   ],
   "source": [
    "b2 = hotel_bill(pizza=4, sandwich=2, coffee=6)"
   ]
  },
  {
   "cell_type": "code",
   "execution_count": 31,
   "metadata": {},
   "outputs": [],
   "source": [
    "table3 = {\n",
    "    \"pasta\": 3,\n",
    "    \"sandwich\": 2,\n",
    "    \"burger\": 1\n",
    "}"
   ]
  },
  {
   "cell_type": "code",
   "execution_count": 32,
   "metadata": {},
   "outputs": [
    {
     "name": "stdout",
     "output_type": "stream",
     "text": [
      "Food Item : pasta, price : 250.00 INR Qty : 3, Subtotal : 750.00 INR\n",
      "Food Item : sandwich, price : 100.00 INR Qty : 2, Subtotal : 200.00 INR\n",
      "Food Item : burger, price : 150.00 INR Qty : 1, Subtotal : 150.00 INR\n",
      "Total billing amount is : 1100.00 INR\n"
     ]
    },
    {
     "data": {
      "text/plain": [
       "1100"
      ]
     },
     "execution_count": 32,
     "metadata": {},
     "output_type": "execute_result"
    }
   ],
   "source": [
    "hotel_bill(**table3)"
   ]
  },
  {
   "cell_type": "code",
   "execution_count": null,
   "metadata": {},
   "outputs": [],
   "source": []
  }
 ],
 "metadata": {
  "kernelspec": {
   "display_name": "venv",
   "language": "python",
   "name": "python3"
  },
  "language_info": {
   "codemirror_mode": {
    "name": "ipython",
    "version": 3
   },
   "file_extension": ".py",
   "mimetype": "text/x-python",
   "name": "python",
   "nbconvert_exporter": "python",
   "pygments_lexer": "ipython3",
   "version": "3.12.1"
  }
 },
 "nbformat": 4,
 "nbformat_minor": 2
}
